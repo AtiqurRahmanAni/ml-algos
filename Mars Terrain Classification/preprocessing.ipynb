{
 "cells": [
  {
   "cell_type": "code",
   "execution_count": 1,
   "metadata": {},
   "outputs": [],
   "source": [
    "from pathlib import Path\n",
    "import shutil\n",
    "from sklearn.model_selection import train_test_split\n",
    "import os\n",
    "from PIL import Image\n",
    "import os\n",
    "import glob\n",
    "import numpy as np\n",
    "from tqdm import tqdm\n",
    "%matplotlib inline"
   ]
  },
  {
   "cell_type": "code",
   "execution_count": 2,
   "metadata": {},
   "outputs": [],
   "source": [
    "root_dir = \"./Splits\"\n",
    "\n",
    "p = Path(root_dir)\n",
    "for split_name in [\"train\", \"test\", \"validation\"]:\n",
    "    (p / split_name).mkdir(parents=True, exist_ok=True)"
   ]
  },
  {
   "cell_type": "code",
   "execution_count": 18,
   "metadata": {},
   "outputs": [],
   "source": [
    "root_dir = Path(\"./Dataset\")\n",
    "subdirs = [d for d in root_dir.iterdir() if d.is_dir()]\n",
    "\n",
    "X, y = [], []\n",
    "for subdir in subdirs:\n",
    "    class_name = subdir.name\n",
    "    for file in subdir.glob('*'):\n",
    "         if file.is_file():\n",
    "              X.append(str(file))\n",
    "              y.append(subdir.name)"
   ]
  },
  {
   "cell_type": "code",
   "execution_count": 30,
   "metadata": {},
   "outputs": [
    {
     "data": {
      "text/plain": [
       "(4707, 923, 4707, 923, 523, 523)"
      ]
     },
     "execution_count": 30,
     "metadata": {},
     "output_type": "execute_result"
    }
   ],
   "source": [
    "X_train, X_test, y_train, y_test = train_test_split(\n",
    "    X, y, test_size=0.15, random_state=42, shuffle=True, stratify=y)\n",
    "\n",
    "X_train, X_val, y_train, y_val = train_test_split(\n",
    "    X_train, y_train, test_size=0.10, random_state=42, shuffle=True, stratify=y_train)\n",
    "\n",
    "len(X_train), len(X_test), len(y_train), len(y_test), len(X_val), len(y_val)"
   ]
  },
  {
   "cell_type": "code",
   "execution_count": 60,
   "metadata": {},
   "outputs": [],
   "source": [
    "def copy_data(root_dir, split_name, X, y):\n",
    "    root_dir = Path(root_dir)\n",
    "    for x, y in zip(X, y):\n",
    "        destination_dir = root_dir / split_name/ y\n",
    "        destination_dir.mkdir(parents=True, exist_ok=True)\n",
    "        \n",
    "        item_name = os.path.basename(x)\n",
    "        dest = destination_dir / item_name\n",
    "\n",
    "        shutil.copy2(x, dest)"
   ]
  },
  {
   "cell_type": "code",
   "execution_count": 61,
   "metadata": {},
   "outputs": [],
   "source": [
    "copy_data(root_dir=\"./Splits\", split_name=\"train\", X=X_train, y=y_train)\n",
    "copy_data(root_dir=\"./Splits\", split_name=\"test\", X=X_test, y=y_test)\n",
    "copy_data(root_dir=\"./Splits\", split_name=\"val\", X=X_val, y=y_val)"
   ]
  },
  {
   "cell_type": "markdown",
   "metadata": {},
   "source": [
    "### Get mean and std of the dataset"
   ]
  },
  {
   "cell_type": "code",
   "execution_count": 2,
   "metadata": {},
   "outputs": [],
   "source": [
    "all_images = glob.glob(\"./Dataset/*/*\")"
   ]
  },
  {
   "cell_type": "code",
   "execution_count": 22,
   "metadata": {},
   "outputs": [
    {
     "name": "stderr",
     "output_type": "stream",
     "text": [
      "100%|██████████| 6153/6153 [00:19<00:00, 307.92it/s]\n"
     ]
    }
   ],
   "source": [
    "mean = np.zeros(3)\n",
    "std = np.zeros(3)\n",
    "\n",
    "for img_path in tqdm(all_images):\n",
    "    with Image.open(img_path) as img:\n",
    "        img_np = np.array(img) / 255.0\n",
    "\n",
    "        img_mean = img_np.mean(axis=(0, 1))\n",
    "        img_std = img_np.std(axis=(0, 1))\n",
    "\n",
    "        mean += img_mean\n",
    "        std += img_std\n",
    "\n",
    "mean /= len(all_images)\n",
    "std /= len(all_images)"
   ]
  },
  {
   "cell_type": "code",
   "execution_count": 23,
   "metadata": {},
   "outputs": [
    {
     "data": {
      "text/plain": [
       "(array([0.47684285, 0.47684285, 0.47684285]),\n",
       " array([0.09335109, 0.09335109, 0.09335109]))"
      ]
     },
     "execution_count": 23,
     "metadata": {},
     "output_type": "execute_result"
    }
   ],
   "source": [
    "mean, std"
   ]
  }
 ],
 "metadata": {
  "kernelspec": {
   "display_name": "venv",
   "language": "python",
   "name": "python3"
  },
  "language_info": {
   "codemirror_mode": {
    "name": "ipython",
    "version": 3
   },
   "file_extension": ".py",
   "mimetype": "text/x-python",
   "name": "python",
   "nbconvert_exporter": "python",
   "pygments_lexer": "ipython3",
   "version": "3.11.9"
  }
 },
 "nbformat": 4,
 "nbformat_minor": 2
}
