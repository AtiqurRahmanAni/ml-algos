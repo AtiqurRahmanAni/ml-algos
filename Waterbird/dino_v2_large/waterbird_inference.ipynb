{
 "cells": [
  {
   "cell_type": "code",
   "execution_count": 1,
   "metadata": {},
   "outputs": [],
   "source": [
    "import torch\n",
    "import os\n",
    "import numpy as np\n",
    "from tqdm.notebook import tqdm\n",
    "import random\n",
    "from torch.utils.data import Dataset, DataLoader\n",
    "from torch import nn"
   ]
  },
  {
   "cell_type": "code",
   "execution_count": 2,
   "metadata": {},
   "outputs": [
    {
     "data": {
      "text/plain": [
       "device(type='cpu')"
      ]
     },
     "execution_count": 2,
     "metadata": {},
     "output_type": "execute_result"
    }
   ],
   "source": [
    "random.seed(42)\n",
    "np.random.seed(42)\n",
    "torch.manual_seed(0)\n",
    "\n",
    "DEVICE = torch.device('cuda' if torch.cuda.is_available() else 'cpu')\n",
    "DEVICE"
   ]
  },
  {
   "cell_type": "code",
   "execution_count": 3,
   "metadata": {},
   "outputs": [],
   "source": [
    "root_dir = \"../../datasets/waterbird_augmented/dino_v2_large_features\""
   ]
  },
  {
   "cell_type": "code",
   "execution_count": 4,
   "metadata": {},
   "outputs": [],
   "source": [
    "class WaterbirdDatasetFeatures(Dataset):\n",
    "    def __init__(self, dataset_path):\n",
    "        self.dataset = np.load(dataset_path, allow_pickle=True).item()\n",
    "        \n",
    "    def __len__(self):\n",
    "        return len(self.dataset['features'])\n",
    "\n",
    "    def __getitem__(self, idx):\n",
    "        feature = self.dataset['features'][idx]\n",
    "        label = self.dataset['labels'][idx]\n",
    "        place = self.dataset['places'][idx]\n",
    "\n",
    "        return feature, label, place"
   ]
  },
  {
   "cell_type": "code",
   "execution_count": 5,
   "metadata": {},
   "outputs": [],
   "source": [
    "class MLP(nn.Module):\n",
    "    def __init__(self):\n",
    "        super(MLP, self).__init__()\n",
    "        self.linear = nn.Sequential(nn.Linear(in_features=2048, out_features=1024, bias=False),\n",
    "                                        nn.BatchNorm1d(num_features=1024),\n",
    "                                        nn.ReLU(),\n",
    "                                        # nn.Dropout(0.5, inplace=False),\n",
    "                                        nn.Linear(in_features=1024,\n",
    "                                                  out_features=512, bias=False),\n",
    "                                        nn.BatchNorm1d(num_features=512),\n",
    "                                        nn.ReLU(),\n",
    "                                        # nn.Dropout(0.5, inplace=False),\n",
    "                                        nn.Linear(in_features=512,\n",
    "                                                  out_features=1, bias=True),\n",
    "                                        nn.Sigmoid())\n",
    "\n",
    "    def forward(self, x):\n",
    "        out = self.linear(x)\n",
    "        return out"
   ]
  },
  {
   "cell_type": "code",
   "execution_count": 6,
   "metadata": {},
   "outputs": [],
   "source": [
    "batch_size = 64\n",
    "test_filename = 'test_data.npy'\n",
    "test_set = WaterbirdDatasetFeatures(dataset_path=os.path.join(root_dir, test_filename))\n",
    "test_loader = DataLoader(test_set, batch_size=batch_size,shuffle=False, pin_memory=True)"
   ]
  },
  {
   "cell_type": "code",
   "execution_count": 7,
   "metadata": {},
   "outputs": [
    {
     "data": {
      "application/vnd.jupyter.widget-view+json": {
       "model_id": "4d446172d2724a6e8f02f46a4f15bda1",
       "version_major": 2,
       "version_minor": 0
      },
      "text/plain": [
       "  0%|          | 0/91 [00:00<?, ?it/s]"
      ]
     },
     "metadata": {},
     "output_type": "display_data"
    },
    {
     "data": {
      "application/vnd.jupyter.widget-view+json": {
       "model_id": "4c0a17bde0ba4195a75a67ad913ba020",
       "version_major": 2,
       "version_minor": 0
      },
      "text/plain": [
       "  0%|          | 0/91 [00:00<?, ?it/s]"
      ]
     },
     "metadata": {},
     "output_type": "display_data"
    },
    {
     "data": {
      "application/vnd.jupyter.widget-view+json": {
       "model_id": "f916cd91454e468b80747d82e578b694",
       "version_major": 2,
       "version_minor": 0
      },
      "text/plain": [
       "  0%|          | 0/91 [00:00<?, ?it/s]"
      ]
     },
     "metadata": {},
     "output_type": "display_data"
    },
    {
     "data": {
      "application/vnd.jupyter.widget-view+json": {
       "model_id": "a2f59711eca04ba5af125eb3e3e500d4",
       "version_major": 2,
       "version_minor": 0
      },
      "text/plain": [
       "  0%|          | 0/91 [00:00<?, ?it/s]"
      ]
     },
     "metadata": {},
     "output_type": "display_data"
    },
    {
     "data": {
      "application/vnd.jupyter.widget-view+json": {
       "model_id": "cbfcb055939e484dbab90241408fe472",
       "version_major": 2,
       "version_minor": 0
      },
      "text/plain": [
       "  0%|          | 0/91 [00:00<?, ?it/s]"
      ]
     },
     "metadata": {},
     "output_type": "display_data"
    },
    {
     "data": {
      "application/vnd.jupyter.widget-view+json": {
       "model_id": "f91e94e807d049f9982743745e9b2416",
       "version_major": 2,
       "version_minor": 0
      },
      "text/plain": [
       "  0%|          | 0/91 [00:00<?, ?it/s]"
      ]
     },
     "metadata": {},
     "output_type": "display_data"
    },
    {
     "data": {
      "application/vnd.jupyter.widget-view+json": {
       "model_id": "059a720a969042acbfeac8ebb15be409",
       "version_major": 2,
       "version_minor": 0
      },
      "text/plain": [
       "  0%|          | 0/91 [00:00<?, ?it/s]"
      ]
     },
     "metadata": {},
     "output_type": "display_data"
    },
    {
     "data": {
      "application/vnd.jupyter.widget-view+json": {
       "model_id": "a277e697b325479faf18ad9de862fc6e",
       "version_major": 2,
       "version_minor": 0
      },
      "text/plain": [
       "  0%|          | 0/91 [00:00<?, ?it/s]"
      ]
     },
     "metadata": {},
     "output_type": "display_data"
    },
    {
     "data": {
      "application/vnd.jupyter.widget-view+json": {
       "model_id": "4d4a1d7b998d4fd88a44e48507cc54df",
       "version_major": 2,
       "version_minor": 0
      },
      "text/plain": [
       "  0%|          | 0/91 [00:00<?, ?it/s]"
      ]
     },
     "metadata": {},
     "output_type": "display_data"
    },
    {
     "data": {
      "application/vnd.jupyter.widget-view+json": {
       "model_id": "f1556784a4394ee4a2ee39ce77f689a8",
       "version_major": 2,
       "version_minor": 0
      },
      "text/plain": [
       "  0%|          | 0/91 [00:00<?, ?it/s]"
      ]
     },
     "metadata": {},
     "output_type": "display_data"
    },
    {
     "data": {
      "application/vnd.jupyter.widget-view+json": {
       "model_id": "70541fef85ea4dc991b3a05816566260",
       "version_major": 2,
       "version_minor": 0
      },
      "text/plain": [
       "  0%|          | 0/91 [00:00<?, ?it/s]"
      ]
     },
     "metadata": {},
     "output_type": "display_data"
    },
    {
     "data": {
      "application/vnd.jupyter.widget-view+json": {
       "model_id": "2cbd70adbec34744872bf086206bb7ad",
       "version_major": 2,
       "version_minor": 0
      },
      "text/plain": [
       "  0%|          | 0/91 [00:00<?, ?it/s]"
      ]
     },
     "metadata": {},
     "output_type": "display_data"
    }
   ],
   "source": [
    "saving_folder = 'lr_00001_relu'\n",
    "\n",
    "for sample_size in [100, 200, 400, 800]:\n",
    "    for j in range(1, 4):\n",
    "        sample = f'{sample_size}_sample_{j}'\n",
    "        trained_checkpoint = f'./trained/{saving_folder}/dino_v2_large_augmented_{sample}.pth'\n",
    "        model = MLP().to(DEVICE)\n",
    "        model.load_state_dict(torch.load(trained_checkpoint,\n",
    "                            weights_only=True, map_location=DEVICE))\n",
    "\n",
    "        with torch.no_grad():\n",
    "            inference_data = []\n",
    "            for features, labels, places in tqdm(test_loader):\n",
    "                features = features.to(DEVICE)\n",
    "                labels = labels.numpy()\n",
    "                places = places.numpy()\n",
    "\n",
    "                out = model(features)\n",
    "                preds = (out >= 0.5).to(torch.int64).view(-1).numpy()\n",
    "\n",
    "                for pred, label, place in zip(preds, labels, places):\n",
    "                    inference_data.append({\n",
    "                        'img_label': label,\n",
    "                        'predicted': pred,\n",
    "                        'place': place\n",
    "                    })\n",
    "            np.save(f\"./statistics/{saving_folder}/inference_stats/{sample}.npy\", inference_data)"
   ]
  }
 ],
 "metadata": {
  "kernelspec": {
   "display_name": "venv",
   "language": "python",
   "name": "python3"
  },
  "language_info": {
   "codemirror_mode": {
    "name": "ipython",
    "version": 3
   },
   "file_extension": ".py",
   "mimetype": "text/x-python",
   "name": "python",
   "nbconvert_exporter": "python",
   "pygments_lexer": "ipython3",
   "version": "3.11.9"
  }
 },
 "nbformat": 4,
 "nbformat_minor": 2
}
