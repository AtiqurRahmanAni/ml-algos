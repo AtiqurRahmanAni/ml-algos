{
 "cells": [
  {
   "cell_type": "code",
   "execution_count": 1,
   "metadata": {},
   "outputs": [],
   "source": [
    "import torch\n",
    "import os\n",
    "import numpy as np\n",
    "from tqdm.notebook import tqdm\n",
    "import random\n",
    "from torch.utils.data import Dataset, DataLoader\n",
    "from torch import nn"
   ]
  },
  {
   "cell_type": "code",
   "execution_count": 2,
   "metadata": {},
   "outputs": [
    {
     "data": {
      "text/plain": [
       "device(type='cpu')"
      ]
     },
     "execution_count": 2,
     "metadata": {},
     "output_type": "execute_result"
    }
   ],
   "source": [
    "random.seed(42)\n",
    "np.random.seed(42)\n",
    "torch.manual_seed(0)\n",
    "\n",
    "DEVICE = torch.device('cuda' if torch.cuda.is_available() else 'cpu')\n",
    "DEVICE"
   ]
  },
  {
   "cell_type": "code",
   "execution_count": 5,
   "metadata": {},
   "outputs": [],
   "source": [
    "root_dir = \"../../datasets/waterbird_augmented/dino_v2_large_features\""
   ]
  },
  {
   "cell_type": "code",
   "execution_count": 6,
   "metadata": {},
   "outputs": [],
   "source": [
    "class WaterbirdDatasetFeatures(Dataset):\n",
    "    def __init__(self, dataset_path):\n",
    "        self.dataset = np.load(dataset_path, allow_pickle=True).item()\n",
    "        \n",
    "    def __len__(self):\n",
    "        return len(self.dataset['features'])\n",
    "\n",
    "    def __getitem__(self, idx):\n",
    "        feature = self.dataset['features'][idx]\n",
    "        label = self.dataset['labels'][idx]\n",
    "        place = self.dataset['places'][idx]\n",
    "\n",
    "        return feature, label, place"
   ]
  },
  {
   "cell_type": "code",
   "execution_count": 15,
   "metadata": {},
   "outputs": [],
   "source": [
    "class MLP(nn.Module):\n",
    "    def __init__(self):\n",
    "        super(MLP, self).__init__()\n",
    "        self.linear = nn.Sequential(nn.Linear(in_features=2048, out_features=1024, bias=False),\n",
    "                                    nn.BatchNorm1d(num_features=1024),\n",
    "                                    nn.ReLU(),\n",
    "                                    nn.Dropout(0.5, inplace=False),\n",
    "                                    nn.Linear(in_features=1024,\n",
    "                                              out_features=512, bias=False),\n",
    "                                    nn.BatchNorm1d(num_features=512),\n",
    "                                    nn.ReLU(),\n",
    "                                    nn.Dropout(0.5, inplace=False),\n",
    "                                    nn.Linear(in_features=512,\n",
    "                                              out_features=1, bias=True),\n",
    "                                    nn.Sigmoid())\n",
    "\n",
    "    def forward(self, x):\n",
    "        out = self.linear(x)\n",
    "        return out"
   ]
  },
  {
   "cell_type": "code",
   "execution_count": 16,
   "metadata": {},
   "outputs": [],
   "source": [
    "batch_size = 64\n",
    "test_filename = 'test_data.npy'\n",
    "test_set = WaterbirdDatasetFeatures(dataset_path=os.path.join(root_dir, test_filename))\n",
    "test_loader = DataLoader(test_set, batch_size=batch_size,shuffle=False, pin_memory=True)"
   ]
  },
  {
   "cell_type": "code",
   "execution_count": 18,
   "metadata": {},
   "outputs": [
    {
     "data": {
      "application/vnd.jupyter.widget-view+json": {
       "model_id": "cd5dbc69aa764924a2062ad4caab0e26",
       "version_major": 2,
       "version_minor": 0
      },
      "text/plain": [
       "  0%|          | 0/91 [00:00<?, ?it/s]"
      ]
     },
     "metadata": {},
     "output_type": "display_data"
    },
    {
     "data": {
      "application/vnd.jupyter.widget-view+json": {
       "model_id": "130286d5d57149a5968d1bac4dcb77f1",
       "version_major": 2,
       "version_minor": 0
      },
      "text/plain": [
       "  0%|          | 0/91 [00:00<?, ?it/s]"
      ]
     },
     "metadata": {},
     "output_type": "display_data"
    },
    {
     "data": {
      "application/vnd.jupyter.widget-view+json": {
       "model_id": "60f65950f94143d29048484066d4f756",
       "version_major": 2,
       "version_minor": 0
      },
      "text/plain": [
       "  0%|          | 0/91 [00:00<?, ?it/s]"
      ]
     },
     "metadata": {},
     "output_type": "display_data"
    },
    {
     "data": {
      "application/vnd.jupyter.widget-view+json": {
       "model_id": "bc217113c91d42de9e1ec71b3197e73f",
       "version_major": 2,
       "version_minor": 0
      },
      "text/plain": [
       "  0%|          | 0/91 [00:00<?, ?it/s]"
      ]
     },
     "metadata": {},
     "output_type": "display_data"
    },
    {
     "data": {
      "application/vnd.jupyter.widget-view+json": {
       "model_id": "24c066e54b5b49daaabdf91715ff9217",
       "version_major": 2,
       "version_minor": 0
      },
      "text/plain": [
       "  0%|          | 0/91 [00:00<?, ?it/s]"
      ]
     },
     "metadata": {},
     "output_type": "display_data"
    },
    {
     "data": {
      "application/vnd.jupyter.widget-view+json": {
       "model_id": "a2cda75a648544629197552689b0de48",
       "version_major": 2,
       "version_minor": 0
      },
      "text/plain": [
       "  0%|          | 0/91 [00:00<?, ?it/s]"
      ]
     },
     "metadata": {},
     "output_type": "display_data"
    },
    {
     "data": {
      "application/vnd.jupyter.widget-view+json": {
       "model_id": "4ab4ed598898465dbe7840f6a4e1bf9d",
       "version_major": 2,
       "version_minor": 0
      },
      "text/plain": [
       "  0%|          | 0/91 [00:00<?, ?it/s]"
      ]
     },
     "metadata": {},
     "output_type": "display_data"
    },
    {
     "data": {
      "application/vnd.jupyter.widget-view+json": {
       "model_id": "a690347a0ee94ce090e2b7b08596e4fa",
       "version_major": 2,
       "version_minor": 0
      },
      "text/plain": [
       "  0%|          | 0/91 [00:00<?, ?it/s]"
      ]
     },
     "metadata": {},
     "output_type": "display_data"
    },
    {
     "data": {
      "application/vnd.jupyter.widget-view+json": {
       "model_id": "4c23277225864ab7b6772b3c28c8a580",
       "version_major": 2,
       "version_minor": 0
      },
      "text/plain": [
       "  0%|          | 0/91 [00:00<?, ?it/s]"
      ]
     },
     "metadata": {},
     "output_type": "display_data"
    },
    {
     "data": {
      "application/vnd.jupyter.widget-view+json": {
       "model_id": "b4fa9338a54c495ebf25fd4259cf18c5",
       "version_major": 2,
       "version_minor": 0
      },
      "text/plain": [
       "  0%|          | 0/91 [00:00<?, ?it/s]"
      ]
     },
     "metadata": {},
     "output_type": "display_data"
    },
    {
     "data": {
      "application/vnd.jupyter.widget-view+json": {
       "model_id": "11fed0ff87634b999ffd4e061f3e20c0",
       "version_major": 2,
       "version_minor": 0
      },
      "text/plain": [
       "  0%|          | 0/91 [00:00<?, ?it/s]"
      ]
     },
     "metadata": {},
     "output_type": "display_data"
    },
    {
     "data": {
      "application/vnd.jupyter.widget-view+json": {
       "model_id": "06ac69fda0ec4cc9a6392caf180e71c3",
       "version_major": 2,
       "version_minor": 0
      },
      "text/plain": [
       "  0%|          | 0/91 [00:00<?, ?it/s]"
      ]
     },
     "metadata": {},
     "output_type": "display_data"
    }
   ],
   "source": [
    "saving_folder = 'lr_00005_relu'\n",
    "\n",
    "for sample_size in [100, 200, 400, 800]:\n",
    "    for j in range(1, 4):\n",
    "        sample = f'{sample_size}_sample_{j}'\n",
    "        trained_checkpoint = f'./trained/{saving_folder}/dino_v2_large_augmented_{sample}.pth'\n",
    "        model = MLP().to(DEVICE)\n",
    "        model.load_state_dict(torch.load(trained_checkpoint,\n",
    "                            weights_only=True, map_location=DEVICE))\n",
    "\n",
    "        with torch.no_grad():\n",
    "            inference_data = []\n",
    "            for features, labels, places in tqdm(test_loader):\n",
    "                features = features.to(DEVICE)\n",
    "                labels = labels.numpy()\n",
    "                places = places.numpy()\n",
    "\n",
    "                out = model(features)\n",
    "                preds = (out >= 0.5).to(torch.int64).view(-1).numpy()\n",
    "\n",
    "                for pred, label, place in zip(preds, labels, places):\n",
    "                    inference_data.append({\n",
    "                        'img_label': label,\n",
    "                        'predicted': pred,\n",
    "                        'place': place\n",
    "                    })\n",
    "            np.save(f\"./statistics/{saving_folder}/inference_stats/{sample}.npy\", inference_data)"
   ]
  }
 ],
 "metadata": {
  "kernelspec": {
   "display_name": "venv",
   "language": "python",
   "name": "python3"
  },
  "language_info": {
   "codemirror_mode": {
    "name": "ipython",
    "version": 3
   },
   "file_extension": ".py",
   "mimetype": "text/x-python",
   "name": "python",
   "nbconvert_exporter": "python",
   "pygments_lexer": "ipython3",
   "version": "3.11.9"
  }
 },
 "nbformat": 4,
 "nbformat_minor": 2
}
