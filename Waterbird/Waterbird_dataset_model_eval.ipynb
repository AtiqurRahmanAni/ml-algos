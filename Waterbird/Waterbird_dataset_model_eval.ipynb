{
 "cells": [
  {
   "cell_type": "code",
   "execution_count": 1,
   "metadata": {},
   "outputs": [],
   "source": [
    "import pandas as pd\n",
    "import matplotlib.pyplot as plt\n",
    "import numpy as np\n",
    "from PIL import Image\n",
    "import os\n",
    "import cv2\n",
    "from glob import glob\n",
    "import random\n",
    "import torch\n",
    "from torch.utils.data import Dataset, DataLoader\n",
    "from tqdm.notebook import tqdm\n",
    "from torch import nn\n",
    "from sklearn.metrics import confusion_matrix, classification_report, accuracy_score, recall_score, precision_score, f1_score"
   ]
  },
  {
   "cell_type": "code",
   "execution_count": 2,
   "metadata": {},
   "outputs": [
    {
     "data": {
      "text/plain": [
       "<torch._C.Generator at 0x1e3d55cf0d0>"
      ]
     },
     "execution_count": 2,
     "metadata": {},
     "output_type": "execute_result"
    }
   ],
   "source": [
    "random.seed(42)\n",
    "np.random.seed(42)\n",
    "torch.manual_seed(0)"
   ]
  },
  {
   "cell_type": "code",
   "execution_count": 3,
   "metadata": {},
   "outputs": [
    {
     "data": {
      "text/html": [
       "<div>\n",
       "<style scoped>\n",
       "    .dataframe tbody tr th:only-of-type {\n",
       "        vertical-align: middle;\n",
       "    }\n",
       "\n",
       "    .dataframe tbody tr th {\n",
       "        vertical-align: top;\n",
       "    }\n",
       "\n",
       "    .dataframe thead th {\n",
       "        text-align: right;\n",
       "    }\n",
       "</style>\n",
       "<table border=\"1\" class=\"dataframe\">\n",
       "  <thead>\n",
       "    <tr style=\"text-align: right;\">\n",
       "      <th></th>\n",
       "      <th>img_id</th>\n",
       "      <th>img_filename</th>\n",
       "      <th>y</th>\n",
       "      <th>split</th>\n",
       "      <th>place</th>\n",
       "      <th>place_filename</th>\n",
       "    </tr>\n",
       "  </thead>\n",
       "  <tbody>\n",
       "    <tr>\n",
       "      <th>0</th>\n",
       "      <td>1</td>\n",
       "      <td>001.Black_footed_Albatross/Black_Footed_Albatr...</td>\n",
       "      <td>1</td>\n",
       "      <td>2</td>\n",
       "      <td>1</td>\n",
       "      <td>/o/ocean/00002178.jpg</td>\n",
       "    </tr>\n",
       "    <tr>\n",
       "      <th>1</th>\n",
       "      <td>2</td>\n",
       "      <td>001.Black_footed_Albatross/Black_Footed_Albatr...</td>\n",
       "      <td>1</td>\n",
       "      <td>0</td>\n",
       "      <td>1</td>\n",
       "      <td>/l/lake/natural/00000065.jpg</td>\n",
       "    </tr>\n",
       "    <tr>\n",
       "      <th>2</th>\n",
       "      <td>3</td>\n",
       "      <td>001.Black_footed_Albatross/Black_Footed_Albatr...</td>\n",
       "      <td>1</td>\n",
       "      <td>2</td>\n",
       "      <td>0</td>\n",
       "      <td>/b/bamboo_forest/00000131.jpg</td>\n",
       "    </tr>\n",
       "    <tr>\n",
       "      <th>3</th>\n",
       "      <td>4</td>\n",
       "      <td>001.Black_footed_Albatross/Black_Footed_Albatr...</td>\n",
       "      <td>1</td>\n",
       "      <td>0</td>\n",
       "      <td>1</td>\n",
       "      <td>/o/ocean/00001268.jpg</td>\n",
       "    </tr>\n",
       "    <tr>\n",
       "      <th>4</th>\n",
       "      <td>5</td>\n",
       "      <td>001.Black_footed_Albatross/Black_Footed_Albatr...</td>\n",
       "      <td>1</td>\n",
       "      <td>0</td>\n",
       "      <td>1</td>\n",
       "      <td>/o/ocean/00003147.jpg</td>\n",
       "    </tr>\n",
       "  </tbody>\n",
       "</table>\n",
       "</div>"
      ],
      "text/plain": [
       "   img_id                                       img_filename  y  split  place  \\\n",
       "0       1  001.Black_footed_Albatross/Black_Footed_Albatr...  1      2      1   \n",
       "1       2  001.Black_footed_Albatross/Black_Footed_Albatr...  1      0      1   \n",
       "2       3  001.Black_footed_Albatross/Black_Footed_Albatr...  1      2      0   \n",
       "3       4  001.Black_footed_Albatross/Black_Footed_Albatr...  1      0      1   \n",
       "4       5  001.Black_footed_Albatross/Black_Footed_Albatr...  1      0      1   \n",
       "\n",
       "                  place_filename  \n",
       "0          /o/ocean/00002178.jpg  \n",
       "1   /l/lake/natural/00000065.jpg  \n",
       "2  /b/bamboo_forest/00000131.jpg  \n",
       "3          /o/ocean/00001268.jpg  \n",
       "4          /o/ocean/00003147.jpg  "
      ]
     },
     "execution_count": 3,
     "metadata": {},
     "output_type": "execute_result"
    }
   ],
   "source": [
    "df = pd.read_csv(\"../datasets/waterbird/metadata.csv\")\n",
    "df.head(5)"
   ]
  },
  {
   "cell_type": "code",
   "execution_count": 4,
   "metadata": {},
   "outputs": [],
   "source": [
    "LANDBIRD = 0\n",
    "WATERBIRD = 1\n",
    "LAND = 0\n",
    "WATER = 1"
   ]
  },
  {
   "cell_type": "code",
   "execution_count": 12,
   "metadata": {},
   "outputs": [],
   "source": [
    "performance_report = np.load(\"D:\\Download\\Waterbird\\PaliGemma\\landbird_or_waterbird\\Trained\\lr_00005\\landbird_or_waterbird_train.npy\", allow_pickle=True)"
   ]
  },
  {
   "cell_type": "code",
   "execution_count": 13,
   "metadata": {},
   "outputs": [],
   "source": [
    "true_labels = [x['img_label'] for x in performance_report]\n",
    "predicted_labels = [x['predicted'] for x in performance_report]\n",
    "place = [x['place'] for x in performance_report]"
   ]
  },
  {
   "cell_type": "code",
   "execution_count": 14,
   "metadata": {},
   "outputs": [],
   "source": [
    "landbird_on_land = []\n",
    "landbird_on_water = []\n",
    "waterbird_on_land = []\n",
    "waterbird_on_water = []\n",
    "\n",
    "predicted_landbird_on_land = []\n",
    "predicted_landbird_on_water = []\n",
    "predicted_waterbird_on_land = []\n",
    "predicted_waterbird_on_water = []\n",
    "\n",
    "predicted_landbird_on_land_correct = []\n",
    "predicted_landbird_on_land_incorrect = []\n",
    "\n",
    "predicted_landbird_on_water_correct = []\n",
    "predicted_landbird_on_water_incorrect = []\n",
    "\n",
    "predicted_waterbird_on_land_correct = []\n",
    "predicted_waterbird_on_land_incorrect = []\n",
    "\n",
    "predicted_waterbird_on_water_correct = []\n",
    "predicted_waterbird_on_water_incorrect = []\n",
    "\n",
    "for report in performance_report:\n",
    "    if report['img_label'] == LANDBIRD and report['place'] == LAND:\n",
    "        landbird_on_land.append(report['img_label'])\n",
    "        predicted_landbird_on_land.append(report['predicted'])\n",
    "        if report['img_label'] == report['predicted']:\n",
    "            predicted_landbird_on_land_correct.append(report)\n",
    "        else:\n",
    "            predicted_landbird_on_land_incorrect.append(report)\n",
    "\n",
    "    elif report['img_label'] == LANDBIRD and report['place'] == WATER:\n",
    "        landbird_on_water.append(report['img_label'])\n",
    "        predicted_landbird_on_water.append(report['predicted'])\n",
    "        if report['img_label'] == report['predicted']:\n",
    "            predicted_landbird_on_water_correct.append(report)\n",
    "        else:\n",
    "            predicted_landbird_on_water_incorrect.append(report)\n",
    "\n",
    "    elif report['img_label'] == WATERBIRD and report['place'] == LAND:\n",
    "        waterbird_on_land.append(report['img_label'])\n",
    "        predicted_waterbird_on_land.append(report['predicted'])\n",
    "        if report['img_label'] == report['predicted']:\n",
    "            predicted_waterbird_on_land_correct.append(report)\n",
    "        else:\n",
    "            predicted_waterbird_on_land_incorrect.append(report)\n",
    "\n",
    "    elif report['img_label'] == WATERBIRD and report['place'] == WATER:\n",
    "        waterbird_on_water.append(report['img_label'])\n",
    "        predicted_waterbird_on_water.append(report['predicted'])\n",
    "        if report['img_label'] == report['predicted']:\n",
    "            predicted_waterbird_on_water_correct.append(report)\n",
    "        else:\n",
    "            predicted_waterbird_on_water_incorrect.append(report)"
   ]
  },
  {
   "cell_type": "code",
   "execution_count": 15,
   "metadata": {},
   "outputs": [
    {
     "name": "stdout",
     "output_type": "stream",
     "text": [
      "All data\n",
      "Accuracy: 0.80 | F1 Score: 0.45\n",
      "Landbird on land\n",
      "Accuracy: 0.99 | F1 Score: 0.00\n",
      "Landbird on water\n",
      "Accuracy: 0.98 | F1 Score: 0.00\n",
      "Waterbird on water\n",
      "Accuracy: 0.30 | F1 Score: 0.46\n",
      "Waterbird on land\n",
      "Accuracy: 0.31 | F1 Score: 0.47\n"
     ]
    }
   ],
   "source": [
    "test_acc = accuracy_score(true_labels, predicted_labels)\n",
    "landbird_on_land_acc = accuracy_score(landbird_on_land, predicted_landbird_on_land)\n",
    "landbird_on_water_acc = accuracy_score(landbird_on_water, predicted_landbird_on_water)\n",
    "waterbird_on_water_acc = accuracy_score(waterbird_on_water, predicted_waterbird_on_water)\n",
    "waterbird_on_land_acc = accuracy_score(waterbird_on_land, predicted_waterbird_on_land)\n",
    "\n",
    "test_f1 = f1_score(true_labels, predicted_labels)\n",
    "landbird_on_land_f1 = f1_score(landbird_on_land, predicted_landbird_on_land)\n",
    "landbird_on_water_f1 = f1_score(landbird_on_water, predicted_landbird_on_water)\n",
    "waterbird_on_water_f1 = f1_score(waterbird_on_water, predicted_waterbird_on_water)\n",
    "waterbird_on_land_f1 = f1_score(waterbird_on_land, predicted_waterbird_on_land)\n",
    "\n",
    "print(f\"All data\\nAccuracy: {test_acc:.2f} | F1 Score: {test_f1:.2f}\")\n",
    "print(f\"Landbird on land\\nAccuracy: {landbird_on_land_acc:.2f} | F1 Score: {landbird_on_land_f1:.2f}\")\n",
    "print(f\"Landbird on water\\nAccuracy: {landbird_on_water_acc:.2f} | F1 Score: {landbird_on_water_f1:.2f}\")\n",
    "print(f\"Waterbird on water\\nAccuracy: {waterbird_on_water_acc:.2f} | F1 Score: {waterbird_on_water_f1:.2f}\")\n",
    "print(f\"Waterbird on land\\nAccuracy: {waterbird_on_land_acc:.2f} | F1 Score: {waterbird_on_land_f1:.2f}\")"
   ]
  },
  {
   "cell_type": "code",
   "execution_count": 10,
   "metadata": {},
   "outputs": [
    {
     "name": "stdout",
     "output_type": "stream",
     "text": [
      "Test set\n",
      "              precision    recall  f1-score   support\n",
      "\n",
      "           0       0.83      0.97      0.90      4510\n",
      "           1       0.75      0.30      0.43      1284\n",
      "\n",
      "    accuracy                           0.82      5794\n",
      "   macro avg       0.79      0.64      0.66      5794\n",
      "weighted avg       0.81      0.82      0.79      5794\n",
      "\n",
      "Landbird on land\n",
      "              precision    recall  f1-score   support\n",
      "\n",
      "           0       1.00      0.97      0.99      2255\n",
      "           1       0.00      1.00      0.00         0\n",
      "\n",
      "    accuracy                           0.97      2255\n",
      "   macro avg       0.50      0.99      0.49      2255\n",
      "weighted avg       1.00      0.97      0.99      2255\n",
      "\n",
      "Landbird on water\n",
      "              precision    recall  f1-score   support\n",
      "\n",
      "           0       1.00      0.97      0.98      2255\n",
      "           1       0.00      1.00      0.00         0\n",
      "\n",
      "    accuracy                           0.97      2255\n",
      "   macro avg       0.50      0.98      0.49      2255\n",
      "weighted avg       1.00      0.97      0.98      2255\n",
      "\n",
      "Waterbird on water\n",
      "              precision    recall  f1-score   support\n",
      "\n",
      "           0       0.00      1.00      0.00         0\n",
      "           1       1.00      0.29      0.45       642\n",
      "\n",
      "    accuracy                           0.29       642\n",
      "   macro avg       0.50      0.65      0.23       642\n",
      "weighted avg       1.00      0.29      0.45       642\n",
      "\n",
      "Waterbird on land\n",
      "              precision    recall  f1-score   support\n",
      "\n",
      "           0       0.00      1.00      0.00         0\n",
      "           1       1.00      0.31      0.47       642\n",
      "\n",
      "    accuracy                           0.31       642\n",
      "   macro avg       0.50      0.65      0.23       642\n",
      "weighted avg       1.00      0.31      0.47       642\n",
      "\n"
     ]
    }
   ],
   "source": [
    "# print(\"Test set\")\n",
    "# print(classification_report(\n",
    "#     true_labels, predicted_labels, output_dict=False))\n",
    "# print(\"Landbird on land\")\n",
    "# print(classification_report(\n",
    "#     landbird_on_land, predicted_landbird_on_land, zero_division=True, output_dict=False))\n",
    "# print(\"Landbird on water\")\n",
    "# print(classification_report(\n",
    "#     landbird_on_water, predicted_landbird_on_water, zero_division=True, output_dict=False))\n",
    "# print(\"Waterbird on water\")\n",
    "# print(classification_report(\n",
    "#     waterbird_on_water, predicted_waterbird_on_water, zero_division=True, output_dict=False))\n",
    "# print(\"Waterbird on land\")\n",
    "# print(classification_report(\n",
    "#     waterbird_on_land, predicted_waterbird_on_land, zero_division=True, output_dict=False))"
   ]
  }
 ],
 "metadata": {
  "kernelspec": {
   "display_name": "venv",
   "language": "python",
   "name": "python3"
  },
  "language_info": {
   "codemirror_mode": {
    "name": "ipython",
    "version": 3
   },
   "file_extension": ".py",
   "mimetype": "text/x-python",
   "name": "python",
   "nbconvert_exporter": "python",
   "pygments_lexer": "ipython3",
   "version": "3.11.9"
  }
 },
 "nbformat": 4,
 "nbformat_minor": 2
}
