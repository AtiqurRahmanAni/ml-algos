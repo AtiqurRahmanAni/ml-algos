{
 "cells": [
  {
   "cell_type": "code",
   "execution_count": 358,
   "metadata": {},
   "outputs": [],
   "source": [
    "from torchvision.transforms import RandAugment\n",
    "from PIL import Image\n",
    "import torch\n",
    "import os\n",
    "import pandas as pd\n",
    "import numpy as np\n",
    "from tqdm.notebook import tqdm\n",
    "import shutil"
   ]
  },
  {
   "cell_type": "code",
   "execution_count": 257,
   "metadata": {},
   "outputs": [],
   "source": [
    "np.random.seed(42)"
   ]
  },
  {
   "cell_type": "code",
   "execution_count": 245,
   "metadata": {},
   "outputs": [
    {
     "data": {
      "text/html": [
       "<div>\n",
       "<style scoped>\n",
       "    .dataframe tbody tr th:only-of-type {\n",
       "        vertical-align: middle;\n",
       "    }\n",
       "\n",
       "    .dataframe tbody tr th {\n",
       "        vertical-align: top;\n",
       "    }\n",
       "\n",
       "    .dataframe thead th {\n",
       "        text-align: right;\n",
       "    }\n",
       "</style>\n",
       "<table border=\"1\" class=\"dataframe\">\n",
       "  <thead>\n",
       "    <tr style=\"text-align: right;\">\n",
       "      <th></th>\n",
       "      <th>img_id</th>\n",
       "      <th>img_filename</th>\n",
       "      <th>y</th>\n",
       "      <th>split</th>\n",
       "      <th>place</th>\n",
       "      <th>place_filename</th>\n",
       "    </tr>\n",
       "  </thead>\n",
       "  <tbody>\n",
       "    <tr>\n",
       "      <th>0</th>\n",
       "      <td>1</td>\n",
       "      <td>001.Black_footed_Albatross/Black_Footed_Albatr...</td>\n",
       "      <td>1</td>\n",
       "      <td>2</td>\n",
       "      <td>1</td>\n",
       "      <td>/o/ocean/00002178.jpg</td>\n",
       "    </tr>\n",
       "    <tr>\n",
       "      <th>1</th>\n",
       "      <td>2</td>\n",
       "      <td>001.Black_footed_Albatross/Black_Footed_Albatr...</td>\n",
       "      <td>1</td>\n",
       "      <td>0</td>\n",
       "      <td>1</td>\n",
       "      <td>/l/lake/natural/00000065.jpg</td>\n",
       "    </tr>\n",
       "    <tr>\n",
       "      <th>2</th>\n",
       "      <td>3</td>\n",
       "      <td>001.Black_footed_Albatross/Black_Footed_Albatr...</td>\n",
       "      <td>1</td>\n",
       "      <td>2</td>\n",
       "      <td>0</td>\n",
       "      <td>/b/bamboo_forest/00000131.jpg</td>\n",
       "    </tr>\n",
       "    <tr>\n",
       "      <th>3</th>\n",
       "      <td>4</td>\n",
       "      <td>001.Black_footed_Albatross/Black_Footed_Albatr...</td>\n",
       "      <td>1</td>\n",
       "      <td>0</td>\n",
       "      <td>1</td>\n",
       "      <td>/o/ocean/00001268.jpg</td>\n",
       "    </tr>\n",
       "    <tr>\n",
       "      <th>4</th>\n",
       "      <td>5</td>\n",
       "      <td>001.Black_footed_Albatross/Black_Footed_Albatr...</td>\n",
       "      <td>1</td>\n",
       "      <td>0</td>\n",
       "      <td>1</td>\n",
       "      <td>/o/ocean/00003147.jpg</td>\n",
       "    </tr>\n",
       "  </tbody>\n",
       "</table>\n",
       "</div>"
      ],
      "text/plain": [
       "   img_id                                       img_filename  y  split  place  \\\n",
       "0       1  001.Black_footed_Albatross/Black_Footed_Albatr...  1      2      1   \n",
       "1       2  001.Black_footed_Albatross/Black_Footed_Albatr...  1      0      1   \n",
       "2       3  001.Black_footed_Albatross/Black_Footed_Albatr...  1      2      0   \n",
       "3       4  001.Black_footed_Albatross/Black_Footed_Albatr...  1      0      1   \n",
       "4       5  001.Black_footed_Albatross/Black_Footed_Albatr...  1      0      1   \n",
       "\n",
       "                  place_filename  \n",
       "0          /o/ocean/00002178.jpg  \n",
       "1   /l/lake/natural/00000065.jpg  \n",
       "2  /b/bamboo_forest/00000131.jpg  \n",
       "3          /o/ocean/00001268.jpg  \n",
       "4          /o/ocean/00003147.jpg  "
      ]
     },
     "execution_count": 245,
     "metadata": {},
     "output_type": "execute_result"
    }
   ],
   "source": [
    "root_dir = \"../datasets/waterbird/\"\n",
    "df = pd.read_csv(os.path.join(root_dir, \"metadata.csv\"))\n",
    "df.head(5)"
   ]
  },
  {
   "cell_type": "code",
   "execution_count": 368,
   "metadata": {},
   "outputs": [
    {
     "name": "stdout",
     "output_type": "stream",
     "text": [
      "4795\n"
     ]
    },
    {
     "data": {
      "text/html": [
       "<div>\n",
       "<style scoped>\n",
       "    .dataframe tbody tr th:only-of-type {\n",
       "        vertical-align: middle;\n",
       "    }\n",
       "\n",
       "    .dataframe tbody tr th {\n",
       "        vertical-align: top;\n",
       "    }\n",
       "\n",
       "    .dataframe thead th {\n",
       "        text-align: right;\n",
       "    }\n",
       "</style>\n",
       "<table border=\"1\" class=\"dataframe\">\n",
       "  <thead>\n",
       "    <tr style=\"text-align: right;\">\n",
       "      <th></th>\n",
       "      <th>img_id</th>\n",
       "      <th>img_filename</th>\n",
       "      <th>y</th>\n",
       "      <th>split</th>\n",
       "      <th>place</th>\n",
       "      <th>place_filename</th>\n",
       "    </tr>\n",
       "  </thead>\n",
       "  <tbody>\n",
       "    <tr>\n",
       "      <th>1</th>\n",
       "      <td>2</td>\n",
       "      <td>001.Black_footed_Albatross/Black_Footed_Albatr...</td>\n",
       "      <td>1</td>\n",
       "      <td>0</td>\n",
       "      <td>1</td>\n",
       "      <td>/l/lake/natural/00000065.jpg</td>\n",
       "    </tr>\n",
       "    <tr>\n",
       "      <th>3</th>\n",
       "      <td>4</td>\n",
       "      <td>001.Black_footed_Albatross/Black_Footed_Albatr...</td>\n",
       "      <td>1</td>\n",
       "      <td>0</td>\n",
       "      <td>1</td>\n",
       "      <td>/o/ocean/00001268.jpg</td>\n",
       "    </tr>\n",
       "    <tr>\n",
       "      <th>4</th>\n",
       "      <td>5</td>\n",
       "      <td>001.Black_footed_Albatross/Black_Footed_Albatr...</td>\n",
       "      <td>1</td>\n",
       "      <td>0</td>\n",
       "      <td>1</td>\n",
       "      <td>/o/ocean/00003147.jpg</td>\n",
       "    </tr>\n",
       "    <tr>\n",
       "      <th>6</th>\n",
       "      <td>7</td>\n",
       "      <td>001.Black_footed_Albatross/Black_Footed_Albatr...</td>\n",
       "      <td>1</td>\n",
       "      <td>0</td>\n",
       "      <td>1</td>\n",
       "      <td>/o/ocean/00003917.jpg</td>\n",
       "    </tr>\n",
       "    <tr>\n",
       "      <th>8</th>\n",
       "      <td>9</td>\n",
       "      <td>001.Black_footed_Albatross/Black_Footed_Albatr...</td>\n",
       "      <td>1</td>\n",
       "      <td>0</td>\n",
       "      <td>1</td>\n",
       "      <td>/l/lake/natural/00000560.jpg</td>\n",
       "    </tr>\n",
       "  </tbody>\n",
       "</table>\n",
       "</div>"
      ],
      "text/plain": [
       "   img_id                                       img_filename  y  split  place  \\\n",
       "1       2  001.Black_footed_Albatross/Black_Footed_Albatr...  1      0      1   \n",
       "3       4  001.Black_footed_Albatross/Black_Footed_Albatr...  1      0      1   \n",
       "4       5  001.Black_footed_Albatross/Black_Footed_Albatr...  1      0      1   \n",
       "6       7  001.Black_footed_Albatross/Black_Footed_Albatr...  1      0      1   \n",
       "8       9  001.Black_footed_Albatross/Black_Footed_Albatr...  1      0      1   \n",
       "\n",
       "                 place_filename  \n",
       "1  /l/lake/natural/00000065.jpg  \n",
       "3         /o/ocean/00001268.jpg  \n",
       "4         /o/ocean/00003147.jpg  \n",
       "6         /o/ocean/00003917.jpg  \n",
       "8  /l/lake/natural/00000560.jpg  "
      ]
     },
     "execution_count": 368,
     "metadata": {},
     "output_type": "execute_result"
    }
   ],
   "source": [
    "train_df = df[df['split'] == 0]\n",
    "print(len(train_df))\n",
    "train_df.head(5)"
   ]
  },
  {
   "cell_type": "markdown",
   "metadata": {},
   "source": [
    "### Copying train data to new folder"
   ]
  },
  {
   "cell_type": "code",
   "execution_count": 387,
   "metadata": {},
   "outputs": [
    {
     "data": {
      "application/vnd.jupyter.widget-view+json": {
       "model_id": "1df269cc21904a529b3cfda4867f6916",
       "version_major": 2,
       "version_minor": 0
      },
      "text/plain": [
       "  0%|          | 0/4795 [00:00<?, ?it/s]"
      ]
     },
     "metadata": {},
     "output_type": "display_data"
    }
   ],
   "source": [
    "metadata = {\n",
    "    'img_filename': [],\n",
    "    'y': [],\n",
    "    'place': []\n",
    "}\n",
    "\n",
    "dest = \"../datasets/waterbird_augmented/training\"\n",
    "for idx, row in tqdm(train_df.iterrows(), total=len(train_df)):\n",
    "    img_filename = row['img_filename']\n",
    "    label = row['y']\n",
    "    place = row['place']\n",
    "    source_path = os.path.join(\"../datasets/waterbird\", img_filename)\n",
    "    img_filename = source_path.split(\"/\")[-1]\n",
    "    \n",
    "    shutil.copy(src=source_path, dst=os.path.join(dest, img_filename))\n",
    "\n",
    "    metadata['img_filename'].append(f'training/{img_filename}')\n",
    "    metadata['y'].append(label)\n",
    "    metadata['place'].append(place)"
   ]
  },
  {
   "cell_type": "code",
   "execution_count": 388,
   "metadata": {},
   "outputs": [],
   "source": [
    "train_metadata_df = pd.DataFrame(metadata)\n",
    "train_metadata_df.to_excel('../datasets/waterbird_augmented/metadata.xlsx', index=False)"
   ]
  },
  {
   "cell_type": "markdown",
   "metadata": {},
   "source": [
    "### Random Augmentation"
   ]
  },
  {
   "cell_type": "code",
   "execution_count": 373,
   "metadata": {},
   "outputs": [
    {
     "data": {
      "text/plain": [
       "(3498, 1057, 56, 184)"
      ]
     },
     "execution_count": 373,
     "metadata": {},
     "output_type": "execute_result"
    }
   ],
   "source": [
    "LANDBIRD = 0\n",
    "WATERBIRD = 1\n",
    "LAND = 0\n",
    "WATER = 1\n",
    "\n",
    "land_bird_on_land_df = train_df[(train_df['place'] == LAND) & (train_df['y'] == LANDBIRD)]\n",
    "waterbird_on_water_df = train_df[(train_df['place'] == WATER) & (train_df['y'] == WATERBIRD)]\n",
    "land_bird_on_water_df = train_df[(train_df['place'] == WATER) & (train_df['y'] == LANDBIRD)]\n",
    "water_bird_on_land_df = train_df[(train_df['place'] == LAND) &(train_df['y'] == WATERBIRD)]\n",
    "\n",
    "land_bird_on_land_df.reset_index(inplace=True)\n",
    "waterbird_on_water_df.reset_index(inplace=True)\n",
    "land_bird_on_water_df.reset_index(inplace=True)\n",
    "water_bird_on_land_df.reset_index(inplace=True)\n",
    "\n",
    "len(land_bird_on_land_df), len(waterbird_on_water_df), len(water_bird_on_land_df), len(land_bird_on_water_df)"
   ]
  },
  {
   "cell_type": "code",
   "execution_count": 457,
   "metadata": {},
   "outputs": [],
   "source": [
    "def take_sample(num_sample: int):\n",
    "    land_bird_on_land_idx = np.random.choice(\n",
    "        a=len(land_bird_on_land_df), size=num_sample, replace=False)\n",
    "    waterbird_on_water_idx = np.random.choice(\n",
    "        a=len(waterbird_on_water_df), size=num_sample, replace=False)\n",
    "    water_bird_on_land_idx = np.random.choice(\n",
    "        a=len(water_bird_on_land_df), size=num_sample, replace=True)\n",
    "    land_bird_on_water_idx = np.random.choice(\n",
    "        a=len(land_bird_on_water_df), size=num_sample, replace=True)\n",
    "    \n",
    "    land_bird_on_land_sampled = land_bird_on_land_df.iloc[land_bird_on_land_idx]\n",
    "    waterbird_on_water_sampled = waterbird_on_water_df.iloc[waterbird_on_water_idx]\n",
    "    water_bird_on_land_sampled = water_bird_on_land_df.iloc[water_bird_on_land_idx]\n",
    "    land_bird_on_water_sampled = land_bird_on_water_df.iloc[land_bird_on_water_idx]\n",
    "\n",
    "    return land_bird_on_land_sampled, waterbird_on_water_sampled, water_bird_on_land_sampled, land_bird_on_water_sampled\n",
    "\n",
    "\n",
    "sample_size = 800\n",
    "land_bird_on_land_sampled, waterbird_on_water_sampled, water_bird_on_land_sampled, land_bird_on_water_sampled = take_sample(num_sample=sample_size)"
   ]
  },
  {
   "cell_type": "code",
   "execution_count": 458,
   "metadata": {},
   "outputs": [
    {
     "data": {
      "application/vnd.jupyter.widget-view+json": {
       "model_id": "6fc3850d3fba4398af74674980a0b572",
       "version_major": 2,
       "version_minor": 0
      },
      "text/plain": [
       "  0%|          | 0/800 [00:00<?, ?it/s]"
      ]
     },
     "metadata": {},
     "output_type": "display_data"
    },
    {
     "data": {
      "application/vnd.jupyter.widget-view+json": {
       "model_id": "3ecb271e519646a09a799dde66f8216b",
       "version_major": 2,
       "version_minor": 0
      },
      "text/plain": [
       "  0%|          | 0/800 [00:00<?, ?it/s]"
      ]
     },
     "metadata": {},
     "output_type": "display_data"
    },
    {
     "data": {
      "application/vnd.jupyter.widget-view+json": {
       "model_id": "1f2ec756ee9745b3b8773377180290a3",
       "version_major": 2,
       "version_minor": 0
      },
      "text/plain": [
       "  0%|          | 0/800 [00:00<?, ?it/s]"
      ]
     },
     "metadata": {},
     "output_type": "display_data"
    },
    {
     "data": {
      "application/vnd.jupyter.widget-view+json": {
       "model_id": "4f504d2fd85d40caa25616196692a3ae",
       "version_major": 2,
       "version_minor": 0
      },
      "text/plain": [
       "  0%|          | 0/800 [00:00<?, ?it/s]"
      ]
     },
     "metadata": {},
     "output_type": "display_data"
    },
    {
     "data": {
      "text/html": [
       "<div>\n",
       "<style scoped>\n",
       "    .dataframe tbody tr th:only-of-type {\n",
       "        vertical-align: middle;\n",
       "    }\n",
       "\n",
       "    .dataframe tbody tr th {\n",
       "        vertical-align: top;\n",
       "    }\n",
       "\n",
       "    .dataframe thead th {\n",
       "        text-align: right;\n",
       "    }\n",
       "</style>\n",
       "<table border=\"1\" class=\"dataframe\">\n",
       "  <thead>\n",
       "    <tr style=\"text-align: right;\">\n",
       "      <th></th>\n",
       "      <th>img_filename</th>\n",
       "      <th>y</th>\n",
       "      <th>place</th>\n",
       "    </tr>\n",
       "  </thead>\n",
       "  <tbody>\n",
       "    <tr>\n",
       "      <th>0</th>\n",
       "      <td>800_samples/sample_3/augmented_1_Yellow_Bellie...</td>\n",
       "      <td>0</td>\n",
       "      <td>0</td>\n",
       "    </tr>\n",
       "    <tr>\n",
       "      <th>1</th>\n",
       "      <td>800_samples/sample_3/augmented_2_Red_Bellied_W...</td>\n",
       "      <td>0</td>\n",
       "      <td>0</td>\n",
       "    </tr>\n",
       "    <tr>\n",
       "      <th>2</th>\n",
       "      <td>800_samples/sample_3/augmented_3_Grasshopper_S...</td>\n",
       "      <td>0</td>\n",
       "      <td>0</td>\n",
       "    </tr>\n",
       "    <tr>\n",
       "      <th>3</th>\n",
       "      <td>800_samples/sample_3/augmented_4_Cape_Glossy_S...</td>\n",
       "      <td>0</td>\n",
       "      <td>0</td>\n",
       "    </tr>\n",
       "    <tr>\n",
       "      <th>4</th>\n",
       "      <td>800_samples/sample_3/augmented_5_Clark_Nutcrac...</td>\n",
       "      <td>0</td>\n",
       "      <td>0</td>\n",
       "    </tr>\n",
       "  </tbody>\n",
       "</table>\n",
       "</div>"
      ],
      "text/plain": [
       "                                        img_filename  y  place\n",
       "0  800_samples/sample_3/augmented_1_Yellow_Bellie...  0      0\n",
       "1  800_samples/sample_3/augmented_2_Red_Bellied_W...  0      0\n",
       "2  800_samples/sample_3/augmented_3_Grasshopper_S...  0      0\n",
       "3  800_samples/sample_3/augmented_4_Cape_Glossy_S...  0      0\n",
       "4  800_samples/sample_3/augmented_5_Clark_Nutcrac...  0      0"
      ]
     },
     "execution_count": 458,
     "metadata": {},
     "output_type": "execute_result"
    }
   ],
   "source": [
    "rand_augment = RandAugment(num_ops=5)\n",
    "\n",
    "sample_size_folder_name = f'{sample_size}_samples'\n",
    "sample_turn = 'sample_3'\n",
    "saving_dir = f'../datasets/waterbird_augmented/{sample_size_folder_name}/{sample_turn}'\n",
    "metadata = {\n",
    "            'img_filename': [],\n",
    "            'y': [],\n",
    "            'place': []\n",
    "            }\n",
    "\n",
    "os.makedirs(saving_dir, exist_ok=True)\n",
    "i = 1\n",
    "for sampled_df in [land_bird_on_land_sampled, land_bird_on_water_sampled, waterbird_on_water_sampled, water_bird_on_land_sampled]:\n",
    "    for idx, row in tqdm(sampled_df.iterrows(), total=len(sampled_df)):\n",
    "        img_filename = row['img_filename']\n",
    "        label = row['y']\n",
    "        place = row['place']\n",
    "        img_fullpath = os.path.join(root_dir, img_filename)\n",
    "        img_filename = img_fullpath.split('/')[-1]\n",
    "        img = Image.open(img_fullpath).convert('RGB')\n",
    "        augmented_img = rand_augment(img)\n",
    "        \n",
    "        img_filename = f'augmented_{i}_{img_filename}'\n",
    "        augmented_img.save(os.path.join(saving_dir, img_filename))\n",
    "\n",
    "        metadata['img_filename'].append(f'{sample_size_folder_name}/{sample_turn}/{img_filename}')\n",
    "        metadata['place'].append(place)\n",
    "        metadata['y'].append(label)\n",
    "        i += 1\n",
    "\n",
    "\n",
    "metadata_df = pd.DataFrame(metadata)\n",
    "metadata_df.head(5)"
   ]
  },
  {
   "cell_type": "code",
   "execution_count": 459,
   "metadata": {},
   "outputs": [],
   "source": [
    "metadata = pd.concat([train_metadata_df, metadata_df], axis=0)\n",
    "metadata.to_excel(f'../datasets/waterbird_augmented/metadata_{sample_size}_{sample_turn}.xlsx', index=False)"
   ]
  }
 ],
 "metadata": {
  "kernelspec": {
   "display_name": "venv",
   "language": "python",
   "name": "python3"
  },
  "language_info": {
   "codemirror_mode": {
    "name": "ipython",
    "version": 3
   },
   "file_extension": ".py",
   "mimetype": "text/x-python",
   "name": "python",
   "nbconvert_exporter": "python",
   "pygments_lexer": "ipython3",
   "version": "3.11.9"
  }
 },
 "nbformat": 4,
 "nbformat_minor": 2
}
