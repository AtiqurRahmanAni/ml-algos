{
 "cells": [
  {
   "cell_type": "code",
   "execution_count": 17,
   "metadata": {},
   "outputs": [],
   "source": [
    "import torch\n",
    "import os\n",
    "import numpy as np\n",
    "from tqdm.notebook import tqdm\n",
    "import random\n",
    "from torch.utils.data import Dataset, DataLoader\n",
    "from torch import nn"
   ]
  },
  {
   "cell_type": "code",
   "execution_count": 18,
   "metadata": {},
   "outputs": [
    {
     "data": {
      "text/plain": [
       "device(type='cpu')"
      ]
     },
     "execution_count": 18,
     "metadata": {},
     "output_type": "execute_result"
    }
   ],
   "source": [
    "random.seed(42)\n",
    "np.random.seed(42)\n",
    "torch.manual_seed(0)\n",
    "\n",
    "DEVICE = torch.device('cuda' if torch.cuda.is_available() else 'cpu')\n",
    "DEVICE"
   ]
  },
  {
   "cell_type": "code",
   "execution_count": 19,
   "metadata": {},
   "outputs": [],
   "source": [
    "root_dir = \"D:/Programming/ML-Algos/datasets/waterbird_augmented/resnet152_waterbird_features\""
   ]
  },
  {
   "cell_type": "code",
   "execution_count": 20,
   "metadata": {},
   "outputs": [],
   "source": [
    "class WaterbirdDatasetFeatures(Dataset):\n",
    "    def __init__(self, dataset_path):\n",
    "        self.dataset = np.load(dataset_path, allow_pickle=True).item()\n",
    "        \n",
    "    def __len__(self):\n",
    "        return len(self.dataset['features'])\n",
    "\n",
    "    def __getitem__(self, idx):\n",
    "        feature = self.dataset['features'][idx]\n",
    "        label = self.dataset['labels'][idx]\n",
    "        place = self.dataset['places'][idx]\n",
    "\n",
    "        return feature, label, place"
   ]
  },
  {
   "cell_type": "code",
   "execution_count": 30,
   "metadata": {},
   "outputs": [],
   "source": [
    "class MLP(nn.Module):\n",
    "    def __init__(self):\n",
    "        super(MLP, self).__init__()\n",
    "        self.linear = nn.Sequential(nn.Linear(in_features=2048, out_features=1024, bias=False),\n",
    "                                    nn.BatchNorm1d(num_features=1024),\n",
    "                                    nn.ReLU(),\n",
    "                                    nn.Dropout(0.5, inplace=False),\n",
    "                                    nn.Linear(in_features=1024,\n",
    "                                              out_features=512, bias=False),\n",
    "                                    nn.BatchNorm1d(num_features=512),\n",
    "                                    nn.ReLU(),\n",
    "                                    nn.Dropout(0.5, inplace=False),\n",
    "                                    nn.Linear(in_features=512,\n",
    "                                              out_features=1, bias=True),\n",
    "                                    nn.Sigmoid())\n",
    "\n",
    "    def forward(self, x):\n",
    "        out = self.linear(x)\n",
    "        return out"
   ]
  },
  {
   "cell_type": "code",
   "execution_count": 31,
   "metadata": {},
   "outputs": [],
   "source": [
    "batch_size = 64\n",
    "test_filename = 'test_data.npy'\n",
    "test_set = WaterbirdDatasetFeatures(dataset_path=os.path.join(root_dir, test_filename))\n",
    "test_loader = DataLoader(test_set, batch_size=batch_size,shuffle=False, pin_memory=True)"
   ]
  },
  {
   "cell_type": "code",
   "execution_count": 32,
   "metadata": {},
   "outputs": [
    {
     "data": {
      "application/vnd.jupyter.widget-view+json": {
       "model_id": "e1218e475a9d439186c7cc9f1c15e1a7",
       "version_major": 2,
       "version_minor": 0
      },
      "text/plain": [
       "  0%|          | 0/91 [00:00<?, ?it/s]"
      ]
     },
     "metadata": {},
     "output_type": "display_data"
    },
    {
     "data": {
      "application/vnd.jupyter.widget-view+json": {
       "model_id": "0073e263b3884471b35f06aed364f694",
       "version_major": 2,
       "version_minor": 0
      },
      "text/plain": [
       "  0%|          | 0/91 [00:00<?, ?it/s]"
      ]
     },
     "metadata": {},
     "output_type": "display_data"
    },
    {
     "data": {
      "application/vnd.jupyter.widget-view+json": {
       "model_id": "eda24b65cabd43afbb4a7fa602b0a4a3",
       "version_major": 2,
       "version_minor": 0
      },
      "text/plain": [
       "  0%|          | 0/91 [00:00<?, ?it/s]"
      ]
     },
     "metadata": {},
     "output_type": "display_data"
    },
    {
     "data": {
      "application/vnd.jupyter.widget-view+json": {
       "model_id": "ae9b6a9021254d88bdd9df21b01ca915",
       "version_major": 2,
       "version_minor": 0
      },
      "text/plain": [
       "  0%|          | 0/91 [00:00<?, ?it/s]"
      ]
     },
     "metadata": {},
     "output_type": "display_data"
    },
    {
     "data": {
      "application/vnd.jupyter.widget-view+json": {
       "model_id": "28d3cdb897ae4165944253666d998d67",
       "version_major": 2,
       "version_minor": 0
      },
      "text/plain": [
       "  0%|          | 0/91 [00:00<?, ?it/s]"
      ]
     },
     "metadata": {},
     "output_type": "display_data"
    },
    {
     "data": {
      "application/vnd.jupyter.widget-view+json": {
       "model_id": "3ab699fe79b249dba2cdeb765cde3f40",
       "version_major": 2,
       "version_minor": 0
      },
      "text/plain": [
       "  0%|          | 0/91 [00:00<?, ?it/s]"
      ]
     },
     "metadata": {},
     "output_type": "display_data"
    },
    {
     "data": {
      "application/vnd.jupyter.widget-view+json": {
       "model_id": "dc74c6d722134cd89ff545af16f49b06",
       "version_major": 2,
       "version_minor": 0
      },
      "text/plain": [
       "  0%|          | 0/91 [00:00<?, ?it/s]"
      ]
     },
     "metadata": {},
     "output_type": "display_data"
    },
    {
     "data": {
      "application/vnd.jupyter.widget-view+json": {
       "model_id": "bf69ab9834094fdea4fdaf185c19ed3e",
       "version_major": 2,
       "version_minor": 0
      },
      "text/plain": [
       "  0%|          | 0/91 [00:00<?, ?it/s]"
      ]
     },
     "metadata": {},
     "output_type": "display_data"
    },
    {
     "data": {
      "application/vnd.jupyter.widget-view+json": {
       "model_id": "3d7761305ab04649b425585d6858dbcc",
       "version_major": 2,
       "version_minor": 0
      },
      "text/plain": [
       "  0%|          | 0/91 [00:00<?, ?it/s]"
      ]
     },
     "metadata": {},
     "output_type": "display_data"
    },
    {
     "data": {
      "application/vnd.jupyter.widget-view+json": {
       "model_id": "f359ae87ff744d0683d3f3c54ff3c8df",
       "version_major": 2,
       "version_minor": 0
      },
      "text/plain": [
       "  0%|          | 0/91 [00:00<?, ?it/s]"
      ]
     },
     "metadata": {},
     "output_type": "display_data"
    },
    {
     "data": {
      "application/vnd.jupyter.widget-view+json": {
       "model_id": "2bdb92f2cf384306be9fe383aff21195",
       "version_major": 2,
       "version_minor": 0
      },
      "text/plain": [
       "  0%|          | 0/91 [00:00<?, ?it/s]"
      ]
     },
     "metadata": {},
     "output_type": "display_data"
    },
    {
     "data": {
      "application/vnd.jupyter.widget-view+json": {
       "model_id": "3e40b7ec7efd4f8f891d47d300449148",
       "version_major": 2,
       "version_minor": 0
      },
      "text/plain": [
       "  0%|          | 0/91 [00:00<?, ?it/s]"
      ]
     },
     "metadata": {},
     "output_type": "display_data"
    }
   ],
   "source": [
    "saving_folder = 'lr_00005_relu'\n",
    "for sample_size in [100, 200, 400, 800]:\n",
    "    for j in range(1, 4):\n",
    "        sample = f'{sample_size}_sample_{j}'\n",
    "\n",
    "        trained_checkpoint = f'./trained/{saving_folder}/resnet150_augmented_{sample}.pth'\n",
    "        model = MLP().to(DEVICE)\n",
    "        model.load_state_dict(torch.load(trained_checkpoint,\n",
    "                            weights_only=True, map_location=DEVICE))\n",
    "\n",
    "        with torch.no_grad():\n",
    "            inference_data = []\n",
    "            for features, labels, places in tqdm(test_loader):\n",
    "                features = features.to(DEVICE)\n",
    "                labels = labels.numpy()\n",
    "                places = places.numpy()\n",
    "\n",
    "                out = model(features)\n",
    "                preds = (out >= 0.5).to(torch.int64).view(-1).numpy()\n",
    "\n",
    "                for pred, label, place in zip(preds, labels, places):\n",
    "                    inference_data.append({\n",
    "                        'img_label': label,\n",
    "                        'predicted': pred,\n",
    "                        'place': place\n",
    "                    })\n",
    "            np.save(f\"./resnet152_statistics/{saving_folder}/inference_stats/{sample}.npy\", inference_data)"
   ]
  }
 ],
 "metadata": {
  "kernelspec": {
   "display_name": "venv",
   "language": "python",
   "name": "python3"
  },
  "language_info": {
   "codemirror_mode": {
    "name": "ipython",
    "version": 3
   },
   "file_extension": ".py",
   "mimetype": "text/x-python",
   "name": "python",
   "nbconvert_exporter": "python",
   "pygments_lexer": "ipython3",
   "version": "3.11.9"
  }
 },
 "nbformat": 4,
 "nbformat_minor": 2
}
