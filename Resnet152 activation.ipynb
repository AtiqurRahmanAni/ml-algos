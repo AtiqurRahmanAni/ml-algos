{
 "cells": [
  {
   "cell_type": "code",
   "execution_count": 17,
   "metadata": {},
   "outputs": [],
   "source": [
    "from PIL import Image\n",
    "import torch\n",
    "import os\n",
    "import pandas as pd\n",
    "import numpy as np\n",
    "from tqdm.notebook import tqdm\n",
    "from torch.utils.data import Dataset\n",
    "from pytorch_grad_cam.utils.image import show_cam_on_image\n",
    "from pytorch_grad_cam import GradCAM\n",
    "from pytorch_grad_cam.utils.model_targets import ClassifierOutputTarget\n",
    "import pandas as pd\n",
    "from torchvision import transforms\n",
    "from torchvision.models import resnet152\n",
    "from torch import nn\n",
    "\n",
    "os.environ['HF_HOME'] = os.getcwd()\n",
    "os.environ['TRANSFORMERS_CACHE'] = os.getcwd()\n",
    "os.environ['TORCH_HOME'] = os.getcwd()\n",
    "os.environ['HSA_OVERRIDE_GFX_VERSION'] = '10.3.0'\n",
    "os.environ['HIP_VISIBLE_DEVICES'] = '0'"
   ]
  },
  {
   "cell_type": "code",
   "execution_count": 2,
   "metadata": {},
   "outputs": [
    {
     "data": {
      "text/plain": [
       "device(type='cuda')"
      ]
     },
     "execution_count": 2,
     "metadata": {},
     "output_type": "execute_result"
    }
   ],
   "source": [
    "seed = 42\n",
    "if torch.cuda.is_available():\n",
    "        torch.cuda.manual_seed(seed)\n",
    "torch.manual_seed(seed)\n",
    "np.random.seed(seed)\n",
    "torch.backends.cudnn.benchmark = False\n",
    "torch.backends.cudnn.deterministic = True\n",
    "\n",
    "DEVICE = torch.device('cuda' if torch.cuda.is_available() else 'cpu')\n",
    "DEVICE"
   ]
  },
  {
   "cell_type": "code",
   "execution_count": 4,
   "metadata": {},
   "outputs": [],
   "source": [
    "class WaterbirdDataset(Dataset):\n",
    "    def __init__(self, df, root_dir, transform=None):\n",
    "        self.root_dir = root_dir\n",
    "        self.df = df\n",
    "        self.transform = transform\n",
    "\n",
    "    \n",
    "    def __len__(self):\n",
    "        return len(self.df)\n",
    "    \n",
    "    \n",
    "    def __getitem__(self, idx):\n",
    "        img_filename = self.df.iloc[idx]['img_filename']\n",
    "        img = Image.open(os.path.join(self.root_dir, img_filename)).convert(\"RGB\")\n",
    "        if self.transform:\n",
    "            img = self.transform(img)\n",
    "        \n",
    "        label = self.df.iloc[idx]['y']\n",
    "        place = self.df.iloc[idx]['place']\n",
    "            \n",
    "        return img_filename, img, label, place"
   ]
  },
  {
   "cell_type": "code",
   "execution_count": 6,
   "metadata": {},
   "outputs": [],
   "source": [
    "root_dir = './datasets/waterbird'\n",
    "\n",
    "df = pd.read_csv(os.path.join(root_dir, 'metadata.csv'))\n",
    "test_df = df[df['split'] == 2].reset_index(inplace=False)"
   ]
  },
  {
   "cell_type": "code",
   "execution_count": 8,
   "metadata": {},
   "outputs": [],
   "source": [
    "transform = transforms.Compose([\n",
    "        transforms.Resize((224, 224)),\n",
    "        transforms.ToTensor(),\n",
    "        transforms.Normalize([0.485, 0.456, 0.406], [0.229, 0.224, 0.225])\n",
    "    ])\n",
    "\n",
    "test_set = WaterbirdDataset(df=test_df, root_dir=root_dir, transform=transform)"
   ]
  },
  {
   "cell_type": "code",
   "execution_count": 18,
   "metadata": {},
   "outputs": [
    {
     "data": {
      "text/plain": [
       "<All keys matched successfully>"
      ]
     },
     "execution_count": 18,
     "metadata": {},
     "output_type": "execute_result"
    }
   ],
   "source": [
    "model = resnet152(weights=None)\n",
    "model.fc = nn.Linear(model.fc.in_features, 2)\n",
    "model = model.to(DEVICE)\n",
    "model.load_state_dict(torch.load(\"/media/atiqur/Extra/Download/Waterbird/Resnet152/800_sample_1/resnet152_augmented_800_sample_1.pth\", weights_only=True, map_location=DEVICE))"
   ]
  },
  {
   "cell_type": "code",
   "execution_count": 21,
   "metadata": {},
   "outputs": [],
   "source": [
    "target_layers = [model.layer4[-1]]\n",
    "cam = GradCAM(model=model, target_layers=target_layers)"
   ]
  },
  {
   "cell_type": "code",
   "execution_count": 29,
   "metadata": {},
   "outputs": [
    {
     "data": {
      "application/vnd.jupyter.widget-view+json": {
       "model_id": "54d127c4fd6243acbb10b213a436d725",
       "version_major": 2,
       "version_minor": 0
      },
      "text/plain": [
       "  0%|          | 0/5794 [00:00<?, ?it/s]"
      ]
     },
     "metadata": {},
     "output_type": "display_data"
    }
   ],
   "source": [
    "metadata = {\n",
    "    'img_filename': [],\n",
    "    'cam_filename': [],\n",
    "    'y': [],\n",
    "    'place': [],\n",
    "    'prediction': []\n",
    "}\n",
    "\n",
    "saving_dir = '/media/atiqur/Extra/Download/Waterbird/Resnet152/Grad-cam'\n",
    "\n",
    "for i in tqdm(range(test_set.__len__())):\n",
    "    torch.cuda.empty_cache()\n",
    "    img_filename, inp, label, place = test_set.__getitem__(i)\n",
    "    inp = inp.unsqueeze(0).to(DEVICE)\n",
    "\n",
    "    with torch.no_grad():\n",
    "        logits = model(inp)\n",
    "        pred = torch.argmax(logits, dim=1).cpu().item()\n",
    "\n",
    "    target = [ClassifierOutputTarget(label)]\n",
    "    \n",
    "    rgb_img = Image.open(os.path.join(root_dir, img_filename)).convert('RGB').resize((224, 224))\n",
    "    rgb_img = np.float32(rgb_img) / 255\n",
    "\n",
    "    cam_out = cam(input_tensor=inp, targets=target)\n",
    "    cam_out = cam_out[0, :]\n",
    "    visualization = show_cam_on_image(rgb_img, cam_out, use_rgb=True)\n",
    "\n",
    "    cam_filename = f'{i}_{img_filename.split('/')[-1]}'\n",
    "    metadata['img_filename'].append(img_filename)\n",
    "    metadata['cam_filename'].append(cam_filename)\n",
    "    metadata['y'].append(label)\n",
    "    metadata['place'].append(place)\n",
    "    metadata['prediction'].append(pred)\n",
    "\n",
    "    img = Image.fromarray(visualization)\n",
    "    img.save(os.path.join(saving_dir, cam_filename))\n",
    "    # break"
   ]
  },
  {
   "cell_type": "code",
   "execution_count": 30,
   "metadata": {},
   "outputs": [],
   "source": [
    "metadata_df = pd.DataFrame(metadata)\n",
    "metadata_df.to_csv(os.path.join(saving_dir, 'metadata.csv'), index=False)"
   ]
  }
 ],
 "metadata": {
  "kernelspec": {
   "display_name": "Python 3",
   "language": "python",
   "name": "python3"
  },
  "language_info": {
   "codemirror_mode": {
    "name": "ipython",
    "version": 3
   },
   "file_extension": ".py",
   "mimetype": "text/x-python",
   "name": "python",
   "nbconvert_exporter": "python",
   "pygments_lexer": "ipython3",
   "version": "3.12.3"
  }
 },
 "nbformat": 4,
 "nbformat_minor": 2
}
