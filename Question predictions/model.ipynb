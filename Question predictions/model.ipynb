{
 "cells": [
  {
   "cell_type": "code",
   "execution_count": 1,
   "metadata": {},
   "outputs": [],
   "source": [
    "import pandas as pd\n",
    "import numpy as np\n",
    "import xgboost as xgb\n",
    "from sklearn.model_selection import train_test_split\n",
    "from sklearn.metrics import mean_squared_error\n",
    "import matplotlib.pyplot as plt\n",
    "import numpy as np\n",
    "import math\n",
    "from glob import glob\n",
    "from tqdm import tqdm\n",
    "import statsmodels.api as sm\n",
    "from glob import glob\n",
    "import warnings\n",
    "warnings.filterwarnings('ignore')"
   ]
  },
  {
   "cell_type": "code",
   "execution_count": 2,
   "metadata": {},
   "outputs": [],
   "source": [
    "def train_and_predict(df, file_name: str):\n",
    "\n",
    "    num_cols = len(list(df.columns)) - 1\n",
    "    try:\n",
    "        for i in range(len(df)):\n",
    "            train_data = df.iloc[i, 4:num_cols].to_list()\n",
    "            train_data = np.array(train_data)\n",
    "            model = sm.tsa.ARIMA(train_data, order=(0, 1, 3))\n",
    "            model_fit = model.fit()\n",
    "\n",
    "            pred = model_fit.forecast(steps=1)\n",
    "            pred = 0 if pred[0] < 0.5 else math.ceil(pred[0])\n",
    "            # print(f'Pred: {pred}')\n",
    "            df.loc[i, '2024'] = pred\n",
    "    except Exception as e:\n",
    "        print(e)\n",
    "        \n",
    "    df.to_excel(f'./predictions/{file_name}', index=False)"
   ]
  },
  {
   "cell_type": "code",
   "execution_count": 3,
   "metadata": {},
   "outputs": [
    {
     "name": "stderr",
     "output_type": "stream",
     "text": [
      " 85%|████████▌ | 46/54 [23:37<03:11, 23.98s/it]"
     ]
    },
    {
     "name": "stdout",
     "output_type": "stream",
     "text": [
      "too many indices for array: array is 0-dimensional, but 1 were indexed\n"
     ]
    },
    {
     "name": "stderr",
     "output_type": "stream",
     "text": [
      " 94%|█████████▍| 51/54 [28:33<02:04, 41.44s/it]"
     ]
    },
    {
     "name": "stdout",
     "output_type": "stream",
     "text": [
      "too many indices for array: array is 0-dimensional, but 1 were indexed\n"
     ]
    },
    {
     "name": "stderr",
     "output_type": "stream",
     "text": [
      "100%|██████████| 54/54 [33:27<00:00, 37.17s/it]"
     ]
    },
    {
     "name": "stdout",
     "output_type": "stream",
     "text": [
      "too many indices for array: array is 0-dimensional, but 1 were indexed\n"
     ]
    },
    {
     "name": "stderr",
     "output_type": "stream",
     "text": [
      "\n"
     ]
    }
   ],
   "source": [
    "excel_files = glob(\"./processed/*\")\n",
    "for file_path in tqdm(excel_files):\n",
    "    df = pd.read_excel(file_path)\n",
    "    df['2024'] = 0\n",
    "    file_name = file_path.split(\"\\\\\")[-1]\n",
    "    train_and_predict(df, file_name)"
   ]
  }
 ],
 "metadata": {
  "kernelspec": {
   "display_name": "venv",
   "language": "python",
   "name": "python3"
  },
  "language_info": {
   "codemirror_mode": {
    "name": "ipython",
    "version": 3
   },
   "file_extension": ".py",
   "mimetype": "text/x-python",
   "name": "python",
   "nbconvert_exporter": "python",
   "pygments_lexer": "ipython3",
   "version": "3.11.9"
  }
 },
 "nbformat": 4,
 "nbformat_minor": 2
}
