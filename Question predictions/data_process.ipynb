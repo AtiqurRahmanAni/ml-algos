{
 "cells": [
  {
   "cell_type": "code",
   "execution_count": 1,
   "metadata": {},
   "outputs": [],
   "source": [
    "import pandas as pd\n",
    "import openpyxl\n",
    "import os\n",
    "import warnings\n",
    "from glob import glob\n",
    "warnings.filterwarnings('ignore')"
   ]
  },
  {
   "cell_type": "code",
   "execution_count": 8,
   "metadata": {},
   "outputs": [
    {
     "data": {
      "text/html": [
       "<div>\n",
       "<style scoped>\n",
       "    .dataframe tbody tr th:only-of-type {\n",
       "        vertical-align: middle;\n",
       "    }\n",
       "\n",
       "    .dataframe tbody tr th {\n",
       "        vertical-align: top;\n",
       "    }\n",
       "\n",
       "    .dataframe thead th {\n",
       "        text-align: right;\n",
       "    }\n",
       "</style>\n",
       "<table border=\"1\" class=\"dataframe\">\n",
       "  <thead>\n",
       "    <tr style=\"text-align: right;\">\n",
       "      <th></th>\n",
       "      <th>subject</th>\n",
       "      <th>chapter</th>\n",
       "      <th>topic</th>\n",
       "      <th>university</th>\n",
       "      <th>year</th>\n",
       "      <th>unit</th>\n",
       "      <th>question_type</th>\n",
       "    </tr>\n",
       "  </thead>\n",
       "  <tbody>\n",
       "    <tr>\n",
       "      <th>0</th>\n",
       "      <td>উচ্চতর গণিত ২য় পত্র</td>\n",
       "      <td>সরলরেখায় বা সমতলে চলমান কণার গতি</td>\n",
       "      <td>বিবিধ</td>\n",
       "      <td>EWU</td>\n",
       "      <td>2022</td>\n",
       "      <td>SUMMER</td>\n",
       "      <td>MCQ</td>\n",
       "    </tr>\n",
       "    <tr>\n",
       "      <th>1</th>\n",
       "      <td>উচ্চতর গণিত ২য় পত্র</td>\n",
       "      <td>বহুপদী ও বহুপদী সমীকরণ</td>\n",
       "      <td>মান নির্ণয় ও সমীকরণ গঠন</td>\n",
       "      <td>EWU</td>\n",
       "      <td>2022</td>\n",
       "      <td>SUMMER</td>\n",
       "      <td>MCQ</td>\n",
       "    </tr>\n",
       "    <tr>\n",
       "      <th>2</th>\n",
       "      <td>উচ্চতর গণিত ২য় পত্র</td>\n",
       "      <td>বহুপদী ও বহুপদী সমীকরণ</td>\n",
       "      <td>মান নির্ণয় ও সমীকরণ গঠন</td>\n",
       "      <td>EWU</td>\n",
       "      <td>2022</td>\n",
       "      <td>SUMMER</td>\n",
       "      <td>MCQ</td>\n",
       "    </tr>\n",
       "    <tr>\n",
       "      <th>3</th>\n",
       "      <td>উচ্চতর গণিত ১ম পত্র</td>\n",
       "      <td>যোগজীকরণ</td>\n",
       "      <td>নির্দিষ্ট যোগজ ব্যবহার করে ক্ষেত্রফল নির্ণয় সং...</td>\n",
       "      <td>EWU</td>\n",
       "      <td>2022</td>\n",
       "      <td>SUMMER</td>\n",
       "      <td>MCQ</td>\n",
       "    </tr>\n",
       "    <tr>\n",
       "      <th>4</th>\n",
       "      <td>গণিত</td>\n",
       "      <td>এক চলক বিশিষ্ট  সমীকরণ</td>\n",
       "      <td>একঘাত সমিকরনের ব্যবহার</td>\n",
       "      <td>EWU</td>\n",
       "      <td>2022</td>\n",
       "      <td>SUMMER</td>\n",
       "      <td>MCQ</td>\n",
       "    </tr>\n",
       "  </tbody>\n",
       "</table>\n",
       "</div>"
      ],
      "text/plain": [
       "               subject                           chapter  \\\n",
       "0  উচ্চতর গণিত ২য় পত্র  সরলরেখায় বা সমতলে চলমান কণার গতি   \n",
       "1  উচ্চতর গণিত ২য় পত্র            বহুপদী ও বহুপদী সমীকরণ   \n",
       "2  উচ্চতর গণিত ২য় পত্র            বহুপদী ও বহুপদী সমীকরণ   \n",
       "3  উচ্চতর গণিত ১ম পত্র                          যোগজীকরণ   \n",
       "4                 গণিত            এক চলক বিশিষ্ট  সমীকরণ   \n",
       "\n",
       "                                               topic university  year    unit  \\\n",
       "0                                              বিবিধ        EWU  2022  SUMMER   \n",
       "1                            মান নির্ণয় ও সমীকরণ গঠন        EWU  2022  SUMMER   \n",
       "2                            মান নির্ণয় ও সমীকরণ গঠন        EWU  2022  SUMMER   \n",
       "3  নির্দিষ্ট যোগজ ব্যবহার করে ক্ষেত্রফল নির্ণয় সং...        EWU  2022  SUMMER   \n",
       "4                             একঘাত সমিকরনের ব্যবহার        EWU  2022  SUMMER   \n",
       "\n",
       "  question_type  \n",
       "0           MCQ  \n",
       "1           MCQ  \n",
       "2           MCQ  \n",
       "3           MCQ  \n",
       "4           MCQ  "
      ]
     },
     "execution_count": 8,
     "metadata": {},
     "output_type": "execute_result"
    }
   ],
   "source": [
    "df = pd.read_excel(\"./data.xlsx\")\n",
    "df = df.fillna('N/A')\n",
    "df.head(5)"
   ]
  },
  {
   "cell_type": "code",
   "execution_count": 9,
   "metadata": {},
   "outputs": [],
   "source": [
    "universities = df['university'].unique()\n",
    "\n",
    "for uni in universities:\n",
    "    new_df = df[df['university'] == uni]\n",
    "    pivot_df = new_df.pivot_table(index=['subject', 'chapter', 'topic', 'unit'],\n",
    "                                  columns = 'year',\n",
    "                                  aggfunc = 'size',\n",
    "                                  fill_value = 0)\n",
    "    pd.DataFrame(pivot_df.to_records()).to_excel(f\"./processed/{uni}.xlsx\", index=False)"
   ]
  },
  {
   "cell_type": "code",
   "execution_count": 2,
   "metadata": {},
   "outputs": [
    {
     "data": {
      "text/plain": [
       "34"
      ]
     },
     "execution_count": 2,
     "metadata": {},
     "output_type": "execute_result"
    }
   ],
   "source": [
    "file_list = glob(\"./predictions/*\")\n",
    "len(file_list)"
   ]
  },
  {
   "cell_type": "code",
   "execution_count": 9,
   "metadata": {},
   "outputs": [],
   "source": [
    "for file_path in file_list:\n",
    "    file_name = os.path.basename(file_path)\n",
    "    df = pd.read_excel(file_path)\n",
    "\n",
    "    with pd.ExcelWriter(os.path.join(\"./final_process\", file_name), engine='openpyxl') as writer:\n",
    "        for subject in df['subject'].unique():\n",
    "            new_df = df[df['subject'] == subject]\n",
    "            new_df['total'] = new_df.iloc[:, 3:].sum(axis=1)\n",
    "            new_df.to_excel(writer, sheet_name=subject[:31], index=False)"
   ]
  }
 ],
 "metadata": {
  "kernelspec": {
   "display_name": "venv",
   "language": "python",
   "name": "python3"
  },
  "language_info": {
   "codemirror_mode": {
    "name": "ipython",
    "version": 3
   },
   "file_extension": ".py",
   "mimetype": "text/x-python",
   "name": "python",
   "nbconvert_exporter": "python",
   "pygments_lexer": "ipython3",
   "version": "3.11.9"
  }
 },
 "nbformat": 4,
 "nbformat_minor": 2
}
