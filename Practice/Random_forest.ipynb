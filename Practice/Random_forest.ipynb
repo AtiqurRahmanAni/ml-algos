{
 "cells": [
  {
   "cell_type": "code",
   "execution_count": 9,
   "metadata": {},
   "outputs": [],
   "source": [
    "import numpy as np\n",
    "from collections import Counter\n",
    "from sklearn import datasets\n",
    "from sklearn.model_selection import train_test_split\n",
    "from sklearn.metrics import classification_report\n",
    "from DecisionTree import DecisionTree"
   ]
  },
  {
   "cell_type": "code",
   "execution_count": 10,
   "metadata": {},
   "outputs": [],
   "source": [
    "dataset = datasets.load_breast_cancer()\n",
    "X, y = dataset.data, dataset.target\n",
    "X_train, X_test, y_train, y_test = train_test_split(X, y, test_size=0.25, random_state=42, stratify=y)"
   ]
  },
  {
   "cell_type": "code",
   "execution_count": 46,
   "metadata": {},
   "outputs": [],
   "source": [
    "class RandomForest:\n",
    "    def __init__(self, n_estimators=2, min_sample_split=5, max_depth=4):\n",
    "        self.n_estimators = n_estimators\n",
    "        self.estimators = [DecisionTree(min_sample_split=min_sample_split,\n",
    "                                        depth=max_depth) for _ in range(self.n_estimators)]\n",
    "        \n",
    "    \n",
    "    def fit(self, X: np.ndarray, y: np.ndarray):\n",
    "        for i in range(self.n_estimators):\n",
    "            X_sampled, y_sampled = self._boostrap(X, y)\n",
    "            self.estimators[i].fit(X_sampled, y_sampled)\n",
    "\n",
    "\n",
    "    def _boostrap(self, X: np.ndarray, y:np.ndarray):\n",
    "        n_sample, n_feature = X.shape\n",
    "        sample_idxs = np.random.choice(n_sample, n_sample // 2, replace=True)\n",
    "        return X[sample_idxs], y[sample_idxs]\n",
    "    \n",
    "\n",
    "    def predict(self, X: np.ndarray):\n",
    "        preductions = []\n",
    "        for i in range(self.n_estimators):\n",
    "            prediction = self.estimators[i].predict(X)\n",
    "            preductions.append(prediction)\n",
    "        \n",
    "        preductions = np.array(preductions).swapaxes(0, 1)\n",
    "        return [Counter(prediction).most_common(1)[0][0] for prediction in preductions]"
   ]
  },
  {
   "cell_type": "code",
   "execution_count": 51,
   "metadata": {},
   "outputs": [],
   "source": [
    "rf = RandomForest(n_estimators=5,\n",
    "                  min_sample_split=4,\n",
    "                  max_depth=5)\n",
    "\n",
    "rf.fit(X_train, y_train)"
   ]
  },
  {
   "cell_type": "code",
   "execution_count": 52,
   "metadata": {},
   "outputs": [
    {
     "name": "stdout",
     "output_type": "stream",
     "text": [
      "              precision    recall  f1-score   support\n",
      "\n",
      "           0       0.89      0.94      0.92        53\n",
      "           1       0.97      0.93      0.95        90\n",
      "\n",
      "    accuracy                           0.94       143\n",
      "   macro avg       0.93      0.94      0.93       143\n",
      "weighted avg       0.94      0.94      0.94       143\n",
      "\n"
     ]
    }
   ],
   "source": [
    "y_preds = rf.predict(X_test)\n",
    "print(classification_report(y_test, y_preds))"
   ]
  }
 ],
 "metadata": {
  "kernelspec": {
   "display_name": "venv",
   "language": "python",
   "name": "python3"
  },
  "language_info": {
   "codemirror_mode": {
    "name": "ipython",
    "version": 3
   },
   "file_extension": ".py",
   "mimetype": "text/x-python",
   "name": "python",
   "nbconvert_exporter": "python",
   "pygments_lexer": "ipython3",
   "version": "3.11.9"
  }
 },
 "nbformat": 4,
 "nbformat_minor": 2
}
