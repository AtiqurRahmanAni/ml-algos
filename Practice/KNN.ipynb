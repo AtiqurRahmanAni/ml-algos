{
 "cells": [
  {
   "cell_type": "code",
   "execution_count": null,
   "metadata": {},
   "outputs": [],
   "source": [
    "import numpy as np\n",
    "from collections import Counter\n",
    "from sklearn import datasets\n",
    "from sklearn.model_selection import train_test_split\n",
    "from sklearn.metrics import classification_report"
   ]
  },
  {
   "cell_type": "code",
   "execution_count": 3,
   "metadata": {},
   "outputs": [],
   "source": [
    "dataset = datasets.load_breast_cancer()\n",
    "X, y = dataset.data, dataset.target\n",
    "X_train, X_test, y_train, y_test = train_test_split(X, y, test_size=0.25, random_state=42, stratify=y)"
   ]
  },
  {
   "cell_type": "code",
   "execution_count": 55,
   "metadata": {},
   "outputs": [],
   "source": [
    "class KNN:\n",
    "    def __init__(self, k):\n",
    "        self.k = k\n",
    "        self.X = None\n",
    "        self.y = None\n",
    "\n",
    "    def fit(self, X: np.ndarray, y: np.ndarray):\n",
    "        self.X = X\n",
    "        self.y = y\n",
    "\n",
    "    def predict(self, X: np.ndarray):\n",
    "        predictions = []\n",
    "        \n",
    "        for x in X:\n",
    "            distances = []\n",
    "            for x_train in self.X:\n",
    "                distance = self._euclidian_distance(x, x_train)\n",
    "                distances.append(distance)\n",
    "            \n",
    "            distances = np.array(distances)\n",
    "            sorted_distance_idxs = np.argsort(distances)[:self.k]\n",
    "            labels = self.y[sorted_distance_idxs]\n",
    "            common_label = self._most_common_label(labels)\n",
    "            predictions.append(common_label)\n",
    "\n",
    "        return np.array(predictions)  \n",
    "\n",
    "\n",
    "    def _euclidian_distance(self, a1: np.ndarray, a2: np.ndarray):\n",
    "        return np.sqrt(np.sum(np.square(a1 - a2)))\n",
    "    \n",
    "    def _most_common_label(self, y: np.ndarray):\n",
    "        return Counter(y).most_common(1)[0][0]"
   ]
  },
  {
   "cell_type": "code",
   "execution_count": 58,
   "metadata": {},
   "outputs": [],
   "source": [
    "best_acc, best_k = 0, None\n",
    "clf_report = None\n",
    "\n",
    "for k in np.arange(2, 21):\n",
    "    clf = KNN(k=k)\n",
    "    clf.fit(X_train, y_train)\n",
    "    y_preds = clf.predict(X_test)\n",
    "\n",
    "    acc = classification_report(y_test, y_preds, output_dict=True)['accuracy']\n",
    "    if acc > best_acc:\n",
    "        best_acc = acc\n",
    "        best_k = k\n",
    "        clf_report = classification_report(y_test, y_preds)"
   ]
  },
  {
   "cell_type": "code",
   "execution_count": 59,
   "metadata": {},
   "outputs": [
    {
     "name": "stdout",
     "output_type": "stream",
     "text": [
      "Best k: 8\n",
      "              precision    recall  f1-score   support\n",
      "\n",
      "           0       0.96      0.91      0.93        53\n",
      "           1       0.95      0.98      0.96        90\n",
      "\n",
      "    accuracy                           0.95       143\n",
      "   macro avg       0.95      0.94      0.95       143\n",
      "weighted avg       0.95      0.95      0.95       143\n",
      "\n"
     ]
    }
   ],
   "source": [
    "print(f'Best k: {best_k}')\n",
    "print(clf_report)"
   ]
  }
 ],
 "metadata": {
  "kernelspec": {
   "display_name": "venv",
   "language": "python",
   "name": "python3"
  },
  "language_info": {
   "codemirror_mode": {
    "name": "ipython",
    "version": 3
   },
   "file_extension": ".py",
   "mimetype": "text/x-python",
   "name": "python",
   "nbconvert_exporter": "python",
   "pygments_lexer": "ipython3",
   "version": "3.11.9"
  }
 },
 "nbformat": 4,
 "nbformat_minor": 2
}
